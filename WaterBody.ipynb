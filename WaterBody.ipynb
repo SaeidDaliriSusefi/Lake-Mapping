{
  "nbformat": 4,
  "nbformat_minor": 0,
  "metadata": {
    "colab": {
      "provenance": [],
      "authorship_tag": "ABX9TyMD4wTvDfeEEJo39YMJHN6x",
      "include_colab_link": true
    },
    "kernelspec": {
      "name": "python3",
      "display_name": "Python 3"
    },
    "language_info": {
      "name": "python"
    }
  },
  "cells": [
    {
      "cell_type": "markdown",
      "metadata": {
        "id": "view-in-github",
        "colab_type": "text"
      },
      "source": [
        "<a href=\"https://colab.research.google.com/github/SaeidDaliriSusefi/Water-Body/blob/main/WaterBody.ipynb\" target=\"_parent\"><img src=\"https://colab.research.google.com/assets/colab-badge.svg\" alt=\"Open In Colab\"/></a>"
      ]
    },
    {
      "cell_type": "code",
      "source": [
        "! pip install xee -q"
      ],
      "metadata": {
        "id": "ymInd-N2nDUm",
        "colab": {
          "base_uri": "https://localhost:8080/",
          "height": 17
        },
        "outputId": "0899ffe6-8223-49a8-e585-d56ca63c320f"
      },
      "execution_count": 9,
      "outputs": [
        {
          "output_type": "display_data",
          "data": {
            "text/plain": [
              "<IPython.core.display.HTML object>"
            ],
            "text/html": [
              "\n",
              "            <style>\n",
              "                .geemap-dark {\n",
              "                    --jp-widgets-color: white;\n",
              "                    --jp-widgets-label-color: white;\n",
              "                    --jp-ui-font-color1: white;\n",
              "                    --jp-layout-color2: #454545;\n",
              "                    background-color: #383838;\n",
              "                }\n",
              "\n",
              "                .geemap-dark .jupyter-button {\n",
              "                    --jp-layout-color3: #383838;\n",
              "                }\n",
              "\n",
              "                .geemap-colab {\n",
              "                    background-color: var(--colab-primary-surface-color, white);\n",
              "                }\n",
              "\n",
              "                .geemap-colab .jupyter-button {\n",
              "                    --jp-layout-color3: var(--colab-primary-surface-color, white);\n",
              "                }\n",
              "            </style>\n",
              "            "
            ]
          },
          "metadata": {}
        }
      ]
    },
    {
      "cell_type": "code",
      "source": [
        "import ee\n",
        "import geemap\n",
        "import xarray as xr\n",
        "import xee\n",
        "from sklearn.cluster import KMeans\n",
        "import matplotlib.pyplot as plt"
      ],
      "metadata": {
        "id": "2w4QPtYMlTUc",
        "colab": {
          "base_uri": "https://localhost:8080/",
          "height": 17
        },
        "outputId": "88160965-43dc-46b4-e54e-a8aea4027019"
      },
      "execution_count": 10,
      "outputs": [
        {
          "output_type": "display_data",
          "data": {
            "text/plain": [
              "<IPython.core.display.HTML object>"
            ],
            "text/html": [
              "\n",
              "            <style>\n",
              "                .geemap-dark {\n",
              "                    --jp-widgets-color: white;\n",
              "                    --jp-widgets-label-color: white;\n",
              "                    --jp-ui-font-color1: white;\n",
              "                    --jp-layout-color2: #454545;\n",
              "                    background-color: #383838;\n",
              "                }\n",
              "\n",
              "                .geemap-dark .jupyter-button {\n",
              "                    --jp-layout-color3: #383838;\n",
              "                }\n",
              "\n",
              "                .geemap-colab {\n",
              "                    background-color: var(--colab-primary-surface-color, white);\n",
              "                }\n",
              "\n",
              "                .geemap-colab .jupyter-button {\n",
              "                    --jp-layout-color3: var(--colab-primary-surface-color, white);\n",
              "                }\n",
              "            </style>\n",
              "            "
            ]
          },
          "metadata": {}
        }
      ]
    },
    {
      "cell_type": "code",
      "source": [
        "ee.Authenticate()\n",
        "ee.Initialize(project=\"Your google earth engine project name\", opt_url='https://earthengine-highvolume.googleapis.com')"
      ],
      "metadata": {
        "colab": {
          "base_uri": "https://localhost:8080/",
          "height": 17
        },
        "id": "iBZsHY9ilgP-",
        "outputId": "6f60c7e8-db4a-456d-9b14-f3002096145d"
      },
      "execution_count": 13,
      "outputs": [
        {
          "output_type": "display_data",
          "data": {
            "text/plain": [
              "<IPython.core.display.HTML object>"
            ],
            "text/html": [
              "\n",
              "            <style>\n",
              "                .geemap-dark {\n",
              "                    --jp-widgets-color: white;\n",
              "                    --jp-widgets-label-color: white;\n",
              "                    --jp-ui-font-color1: white;\n",
              "                    --jp-layout-color2: #454545;\n",
              "                    background-color: #383838;\n",
              "                }\n",
              "\n",
              "                .geemap-dark .jupyter-button {\n",
              "                    --jp-layout-color3: #383838;\n",
              "                }\n",
              "\n",
              "                .geemap-colab {\n",
              "                    background-color: var(--colab-primary-surface-color, white);\n",
              "                }\n",
              "\n",
              "                .geemap-colab .jupyter-button {\n",
              "                    --jp-layout-color3: var(--colab-primary-surface-color, white);\n",
              "                }\n",
              "            </style>\n",
              "            "
            ]
          },
          "metadata": {}
        }
      ]
    },
    {
      "cell_type": "code",
      "source": [
        "map=geemap.Map(basemap=\"SATELLITE\")\n",
        "map"
      ],
      "metadata": {
        "id": "V6qS2cKSnVcx"
      },
      "execution_count": 26,
      "outputs": []
    },
    {
      "cell_type": "code",
      "source": [
        "roi = map.draw_last_feature.geometry()\n",
        "\n",
        "\n",
        "start_time = '2020'\n",
        "\n",
        "end_time = '2021'\n",
        "\n",
        "\n",
        "landsat = ee.ImageCollection(\"LANDSAT/LC08/C02/T1_L2\").filterBounds(roi).filterDate(start_time,end_time)\n",
        "\n",
        "def ndwi(img):\n",
        "  qa = img.select('QA_PIXEL')\n",
        "  cloud = qa.bitwiseAnd(1 << 3).neq(0)\n",
        "  cirrus = qa.bitwiseAnd(1 << 2).neq(0)\n",
        "  shadow = qa.bitwiseAnd(1 << 4).neq(0)\n",
        "  mask = cloud.Or(cirrus).Or(shadow)\n",
        "  bands = img.select('SR.*').multiply(2.75e-05).add(-0.2)\n",
        "  index = bands.normalizedDifference(['SR_B3','SR_B5']).rename('ndwi')\n",
        "  return index.updateMask(mask.Not()).copyProperties(img, img.propertyNames())\n",
        "\n",
        "landsat_ndwi = landsat.map(ndwi)\n",
        "landsat_ndwi\n",
        "\n",
        "ds = xr.open_dataset(landsat_ndwi, engine = 'ee', crs = 'EPSG:4326', scale = 0.000269, geometry = roi)\n",
        "\n",
        "ds_mean = ds.mean('time')\n",
        "\n",
        "model = KMeans(n_clusters = 2, random_state = 42)\n",
        "\n",
        "df = ds_mean.to_dataframe()\n",
        "\n",
        "df['clustering'] = model.fit_predict(df[['ndwi']])\n",
        "\n",
        "xarr = df.to_xarray().sortby('lon').sortby('lat')\n",
        "\n",
        "\n",
        "# Create the figure and axes\n",
        "# Count lake pixels\n",
        "lake_pixels = (xarr.clustering == 1).sum().item()\n",
        "\n",
        "# Convert to square kilometers\n",
        "lake_area_km2 = lake_pixels * 900 / 1_000_000  # each pixel = 900 m²\n",
        "\n",
        "fig, axes = plt.subplots(ncols=2, figsize=(14, 6))\n",
        "\n",
        "# Plot mean NDWI\n",
        "ds_mean.ndwi.plot(ax=axes[0], x='lon', y='lat', robust=True)\n",
        "axes[0].set_title(\"NDWI\")\n",
        "\n",
        "# Plot clustering\n",
        "xarr.clustering.plot(ax=axes[1], x='lon', y='lat', cmap='Blues')\n",
        "axes[1].set_title(\"Water Body\")\n",
        "\n",
        "# Add lake area text in km²\n",
        "axes[1].text(\n",
        "    0.05, 0.05, f\"Water Body Area: {lake_area_km2:.2f} km²\",\n",
        "    transform=axes[1].transAxes,\n",
        "    fontsize=12, color='red',\n",
        "    bbox=dict(facecolor='white', alpha=0.8)\n",
        ")\n",
        "\n",
        "plt.tight_layout()\n",
        "plt.show()"
      ],
      "metadata": {
        "id": "A7ht1EZsmVm-"
      },
      "execution_count": 26,
      "outputs": []
    }
  ]
}